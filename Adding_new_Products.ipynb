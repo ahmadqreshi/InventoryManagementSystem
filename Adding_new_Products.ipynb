{
  "nbformat": 4,
  "nbformat_minor": 0,
  "metadata": {
    "colab": {
      "name": "Adding new Products.ipynb",
      "provenance": []
    },
    "kernelspec": {
      "name": "python3",
      "display_name": "Python 3"
    },
    "language_info": {
      "name": "python"
    }
  },
  "cells": [
    {
      "cell_type": "markdown",
      "metadata": {
        "id": "hyBF38Ay1vGg"
      },
      "source": [
        "# Loading Records"
      ]
    },
    {
      "cell_type": "code",
      "metadata": {
        "id": "C8OvptVsg505"
      },
      "source": [
        "import json"
      ],
      "execution_count": 11,
      "outputs": []
    },
    {
      "cell_type": "code",
      "metadata": {
        "id": "Gkhuhhwmh_0x"
      },
      "source": [
        "fd = open(\"record.json\", \"r\")\n",
        "txt = fd.read()\n",
        "fd.close()"
      ],
      "execution_count": 12,
      "outputs": []
    },
    {
      "cell_type": "code",
      "metadata": {
        "id": "OtIwE-J8iXOf"
      },
      "source": [
        "record = json.loads(txt)"
      ],
      "execution_count": 13,
      "outputs": []
    },
    {
      "cell_type": "markdown",
      "metadata": {
        "id": "TYYimNzl19RB"
      },
      "source": [
        "# Entering new Products into Inventory"
      ]
    },
    {
      "cell_type": "code",
      "metadata": {
        "colab": {
          "base_uri": "https://localhost:8080/"
        },
        "id": "86msq3F_ijMV",
        "outputId": "f7afd9a5-20eb-466d-a32e-395b5eb89583"
      },
      "source": [
        "prod_id = input(\"Enter product id: \")\n",
        "prod_name = input(\"Enter Product name: \")\n",
        "prod_size = input(\"Enter size of Product: \")\n",
        "prod_price = int(input(\"Enter Price of Product: \"))\n",
        "prod_quan = int(input(\"Enter Quantity: \"))\n",
        "\n",
        "\n",
        "if prod_id in record:\n",
        "  record[prod_id][\"Quantity\"] = record[prod_id][\"Quantity\"] + prod_quan\n",
        "else:\n",
        "  record[prod_id] = {\"Product_name\":prod_name,\"size\":prod_size,\"Price\":prod_price,\"Quantity\": prod_quan}\n",
        "\n",
        "\n",
        "\n"
      ],
      "execution_count": 17,
      "outputs": [
        {
          "name": "stdout",
          "output_type": "stream",
          "text": [
            "Enter product id: 11602296\n",
            "Enter Product name: Halwa\n",
            "Enter size of Product: S\n",
            "Enter Price of Product: 45\n",
            "Enter Quantity: 21\n"
          ]
        }
      ]
    },
    {
      "cell_type": "code",
      "metadata": {
        "id": "SOnqmbHSjfrC"
      },
      "source": [
        "rec = json.dumps(record)\n",
        "fd = open(\"record.json\",\"w\")\n",
        "fd.write(rec)\n",
        "fd.close()"
      ],
      "execution_count": 18,
      "outputs": []
    },
    {
      "cell_type": "code",
      "metadata": {
        "id": "jnUEe6Cl1lD-"
      },
      "source": [
        "rec"
      ],
      "execution_count": null,
      "outputs": []
    }
  ]
}