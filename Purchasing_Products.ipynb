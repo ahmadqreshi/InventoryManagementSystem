{
  "nbformat": 4,
  "nbformat_minor": 0,
  "metadata": {
    "colab": {
      "name": "Purchasing Products.ipynb",
      "provenance": []
    },
    "kernelspec": {
      "name": "python3",
      "display_name": "Python 3"
    },
    "language_info": {
      "name": "python"
    }
  },
  "cells": [
    {
      "cell_type": "markdown",
      "metadata": {
        "id": "RzLSzl_Vkvbv"
      },
      "source": [
        "# Read Inventory"
      ]
    },
    {
      "cell_type": "code",
      "metadata": {
        "id": "LO50TlXfk4Hm"
      },
      "source": [
        "import json\n",
        "\n",
        "fd = open(\"record.json\",\"r\")\n",
        "r = fd.read()\n",
        "fd.close()\n",
        "\n",
        "records = json.loads(r)"
      ],
      "execution_count": 1,
      "outputs": []
    },
    {
      "cell_type": "markdown",
      "metadata": {
        "id": "OqpajJMplhRa"
      },
      "source": [
        "# Purchase"
      ]
    },
    {
      "cell_type": "code",
      "metadata": {
        "colab": {
          "base_uri": "https://localhost:8080/"
        },
        "id": "7CEN1-RJllYa",
        "outputId": "7ff4fc95-2304-444b-fcf2-fbf6c53856da"
      },
      "source": [
        "user_prod = input(\"Enter Product id: \")\n",
        "\n",
        "\n",
        "if user_prod in records:\n",
        "  user_quant = int(input(\"Enter Quantity\"))\n",
        "  print(\"Product: \",records[user_prod][\"Product_name\"])\n",
        "  print(\"Price: \", records[user_prod][\"Price\"])\n",
        "  if user_quant<=records[user_prod][\"Quantity\"]:\n",
        "    print(\"Billing Amount: \",records[user_prod][\"Price\"]*user_quant)\n",
        "    records[user_prod][\"Quantity\"] = records[user_prod][\"Quantity\"] - user_quant\n",
        "  else:\n",
        "    print(\"Available Quantity is :\",records[user_prod][\"Quantity\"])\n",
        "else:\n",
        "  print(\"Product is not available!!\")\n",
        "\n",
        "  "
      ],
      "execution_count": 92,
      "outputs": [
        {
          "output_type": "stream",
          "name": "stdout",
          "text": [
            "Enter Product id: 11602277\n",
            "Enter Quantity6\n",
            "Product:  simple Cake\n",
            "Price:  190\n",
            "Billing Amount:  1140\n"
          ]
        }
      ]
    },
    {
      "cell_type": "markdown",
      "metadata": {
        "id": "KUcglfKWoo7C"
      },
      "source": [
        "# Updating Inventory after Purchase"
      ]
    },
    {
      "cell_type": "code",
      "metadata": {
        "id": "GngSVeR3ozOv"
      },
      "source": [
        "js = json.dumps(records)\n",
        "\n",
        "fd = open(\"record.json\",\"w\")\n",
        "fd.write(js)\n",
        "fd.close()"
      ],
      "execution_count": 93,
      "outputs": []
    },
    {
      "cell_type": "markdown",
      "metadata": {
        "id": "XMmbuzDvpkf9"
      },
      "source": [
        "# Sales Record"
      ]
    },
    {
      "cell_type": "code",
      "metadata": {
        "id": "Pib8qNsyxG-N"
      },
      "source": [
        "Sale = {1:{\"Product_id\":'11602289',\"Product_Name\": \"Pastry\",\"Quantity\":7,\"Amount\":210},\n",
        "        2:{\"Product_id\":'11602263',\"Product_Name\": \"5 Star\",\"Quantity\":7,\"Amount\":140},\n",
        "        3:{\"Product_id\":'11602287',\"Product_Name\": \"Coffe\",\"Quantity\":7,\"Amount\":420}\n",
        "}"
      ],
      "execution_count": 54,
      "outputs": []
    },
    {
      "cell_type": "code",
      "metadata": {
        "id": "OLHI4IWmsLDo"
      },
      "source": [
        "Sale[len(Sale)+1] = {\"Product_id\":user_prod,\"Product_Name\":records[user_prod][\"Product_name\"],\"Quantity\":user_quant,\"Amount\":records[user_prod][\"Price\"]*user_quant}"
      ],
      "execution_count": 94,
      "outputs": []
    },
    {
      "cell_type": "code",
      "metadata": {
        "id": "xrmAT8fYrXxA"
      },
      "source": [
        "sales = json.dumps(Sale)"
      ],
      "execution_count": 95,
      "outputs": []
    },
    {
      "cell_type": "code",
      "metadata": {
        "id": "8MvEWjxmrxvj"
      },
      "source": [
        "fd = open(\"sales.json\",\"w\")\n",
        "fd.write(sales)\n",
        "fd.close()"
      ],
      "execution_count": 96,
      "outputs": []
    },
    {
      "cell_type": "code",
      "metadata": {
        "colab": {
          "base_uri": "https://localhost:8080/",
          "height": 176
        },
        "id": "GqRThMJFtpds",
        "outputId": "ce175cee-a567-4d67-b96b-7c5a5aab420c"
      },
      "source": [
        "sales"
      ],
      "execution_count": 97,
      "outputs": [
        {
          "output_type": "execute_result",
          "data": {
            "application/vnd.google.colaboratory.intrinsic+json": {
              "type": "string"
            },
            "text/plain": [
              "'{\"1\": {\"Product_id\": \"11602289\", \"Product_Name\": \"Pastry\", \"Quantity\": 7, \"Amount\": 210}, \"2\": {\"Product_id\": \"11602263\", \"Product_Name\": \"5 Star\", \"Quantity\": 7, \"Amount\": 140}, \"3\": {\"Product_id\": \"11602287\", \"Product_Name\": \"Coffe\", \"Quantity\": 7, \"Amount\": 420}, \"4\": {\"Product_id\": \"11602278\", \"Product_Name\": \"simple Cake\", \"Quantity\": 9, \"Amount\": 3510}, \"5\": {\"Product_id\": \"11602285\", \"Product_Name\": \"Pizza\", \"Quantity\": 5, \"Amount\": 2250}, \"6\": {\"Product_id\": \"11602264\", \"Product_Name\": \"KitKat\", \"Quantity\": 5, \"Amount\": 50}, \"7\": {\"Product_id\": \"11602274\", \"Product_Name\": \"Sprite\", \"Quantity\": 9, \"Amount\": 360}, \"8\": {\"Product_id\": \"11602264\", \"Product_Name\": \"KitKat\", \"Quantity\": 5, \"Amount\": 50}, \"9\": {\"Product_id\": \"11602262\", \"Product_Name\": \"5 Star\", \"Quantity\": 6, \"Amount\": 60}, \"10\": {\"Product_id\": \"11602277\", \"Product_Name\": \"simple Cake\", \"Quantity\": 6, \"Amount\": 1140}}'"
            ]
          },
          "metadata": {},
          "execution_count": 97
        }
      ]
    }
  ]
}